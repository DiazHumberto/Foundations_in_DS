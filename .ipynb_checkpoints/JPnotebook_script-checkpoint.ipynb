{
 "cells": [
  {
   "cell_type": "code",
   "execution_count": 1,
   "id": "9c14e1ae-9b64-4e6d-9888-36e759dbc12e",
   "metadata": {},
   "outputs": [
    {
     "name": "stdout",
     "output_type": "stream",
     "text": [
      "Name: Humberto Diaz\n",
      "Student Number: 3177986\n",
      "Summatory of dates: 2022\n",
      "Mean of dates: 674.0\n"
     ]
    }
   ],
   "source": [
    "# Lab Exercise 1 \n",
    "\n",
    "# 1. Define birth date variables.\n",
    "year = 1998\n",
    "month = 10\n",
    "day = 14\n",
    "\n",
    "# 2. Calculate sum and mean of the birth date.\n",
    "sum_of_dates = year + month + day\n",
    "mean_of_dates = sum_of_dates / 3\n",
    "\n",
    "# 3. Define name and student number as variables.\n",
    "name = \"Humberto Diaz\"\n",
    "student_number = 3177986\n",
    "\n",
    "\n",
    "# 4. Print the outcome.\n",
    "print(f\"Name: {name}\")\n",
    "print(f\"Student Number: {student_number}\")\n",
    "print(f\"Summatory of dates: {sum_of_dates}\")\n",
    "print(f\"Mean of dates: {mean_of_dates}\")"
   ]
  }
 ],
 "metadata": {
  "kernelspec": {
   "display_name": "Python 3 (ipykernel)",
   "language": "python",
   "name": "python3"
  },
  "language_info": {
   "codemirror_mode": {
    "name": "ipython",
    "version": 3
   },
   "file_extension": ".py",
   "mimetype": "text/x-python",
   "name": "python",
   "nbconvert_exporter": "python",
   "pygments_lexer": "ipython3",
   "version": "3.11.5"
  }
 },
 "nbformat": 4,
 "nbformat_minor": 5
}
